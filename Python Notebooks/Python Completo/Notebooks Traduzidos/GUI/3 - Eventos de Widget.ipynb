{
 "cells": [
  {
   "cell_type": "markdown",
   "metadata": {
    "slideshow": {
     "slide_type": "slide"
    }
   },
   "source": [
    "# Eventos de Widget\n",
    "\n",
    "Nesta palestra, discutiremos eventos de widgets, como cliques de botão!"
   ]
  },
  {
   "cell_type": "markdown",
   "metadata": {},
   "source": [
    "## Eventos especiais"
   ]
  },
  {
   "cell_type": "code",
   "execution_count": 1,
   "metadata": {},
   "outputs": [],
   "source": [
    "from __future__ import print_function"
   ]
  },
  {
   "cell_type": "markdown",
   "metadata": {},
   "source": [
    "O `Button` não é usado para representar um tipo de dados. Em vez disso, o botão widget é usado para lidar com os cliques do mouse. O método `on_click` do` Button` pode ser usado para registrar a função a ser chamada quando o botão é clicado. A seqüência de documentos do `on_click` pode ser vista abaixo."
   ]
  },
  {
   "cell_type": "code",
   "execution_count": 2,
   "metadata": {},
   "outputs": [
    {
     "name": "stdout",
     "output_type": "stream",
     "text": [
      "Register a callback to execute when the button is clicked.\n",
      "\n",
      "        The callback will be called with one argument, the clicked button\n",
      "        widget instance.\n",
      "\n",
      "        Parameters\n",
      "        ----------\n",
      "        remove: bool (optional)\n",
      "            Set to true to remove the callback from the list of callbacks.\n",
      "        \n"
     ]
    }
   ],
   "source": [
    "import ipywidgets as widgets\n",
    "print(widgets.Button.on_click.__doc__)"
   ]
  },
  {
   "cell_type": "markdown",
   "metadata": {},
   "source": [
    "### Exemplo\n",
    "\n",
    "Como os cliques no botão são sem estado, eles são transmitidos do front-end para o back-end usando mensagens personalizadas. Ao usar o método `on_click`, um botão que imprime uma mensagem quando foi clicado é mostrado abaixo."
   ]
  },
  {
   "cell_type": "code",
   "execution_count": 14,
   "metadata": {},
   "outputs": [
    {
     "data": {
      "application/vnd.jupyter.widget-view+json": {
       "model_id": "50ad6689f4304756a10640f0fd661f37",
       "version_major": 2,
       "version_minor": 0
      },
      "text/plain": [
       "Button(description='Click Me!', style=ButtonStyle())"
      ]
     },
     "metadata": {},
     "output_type": "display_data"
    },
    {
     "name": "stdout",
     "output_type": "stream",
     "text": [
      "www.google.com.br\n",
      "Button clicked.\n"
     ]
    }
   ],
   "source": [
    "from IPython.display import display\n",
    "button = widgets.Button(description=\"Click Me!\")\n",
    "display(button)\n",
    "\n",
    "def on_button_clicked(b):\n",
    "    print(\"Button clicked.\")\n",
    "\n",
    "button.on_click(on_button_clicked)"
   ]
  },
  {
   "cell_type": "markdown",
   "metadata": {},
   "source": [
    "### on_submit\n",
    "O widget `Text` também possui um evento especial` on_submit`. O evento `on_submit` é acionado quando o usuário tecla Enter."
   ]
  },
  {
   "cell_type": "code",
   "execution_count": 4,
   "metadata": {},
   "outputs": [
    {
     "data": {
      "application/vnd.jupyter.widget-view+json": {
       "model_id": "afbd4508438043b69e5bbef51acf3f2b",
       "version_major": 2,
       "version_minor": 0
      },
      "text/plain": [
       "Text(value='')"
      ]
     },
     "metadata": {},
     "output_type": "display_data"
    }
   ],
   "source": [
    "text = widgets.Text()\n",
    "display(text)\n",
    "\n",
    "def handle_submit(sender):\n",
    "    print(text.value)\n",
    "\n",
    "text.on_submit(handle_submit)"
   ]
  },
  {
   "cell_type": "markdown",
   "metadata": {},
   "source": [
    "## Traitlet events\n",
    "As propriedades do Widget são traços de IPython e os traços possuem eventos. Para lidar com mudanças, o método `on_trait_change` do widget pode ser usado para registrar um retorno de chamada. A string do doc para `on_trait_change` pode ser vista abaixo."
   ]
  },
  {
   "cell_type": "code",
   "execution_count": 5,
   "metadata": {},
   "outputs": [
    {
     "name": "stdout",
     "output_type": "stream",
     "text": [
      "DEPRECATED: Setup a handler to be called when a trait changes.\n",
      "\n",
      "        This is used to setup dynamic notifications of trait changes.\n",
      "\n",
      "        Static handlers can be created by creating methods on a HasTraits\n",
      "        subclass with the naming convention '_[traitname]_changed'.  Thus,\n",
      "        to create static handler for the trait 'a', create the method\n",
      "        _a_changed(self, name, old, new) (fewer arguments can be used, see\n",
      "        below).\n",
      "\n",
      "        If `remove` is True and `handler` is not specified, all change\n",
      "        handlers for the specified name are uninstalled.\n",
      "\n",
      "        Parameters\n",
      "        ----------\n",
      "        handler : callable, None\n",
      "            A callable that is called when a trait changes.  Its\n",
      "            signature can be handler(), handler(name), handler(name, new),\n",
      "            handler(name, old, new), or handler(name, old, new, self).\n",
      "        name : list, str, None\n",
      "            If None, the handler will apply to all traits.  If a list\n",
      "            of str, handler will apply to all names in the list.  If a\n",
      "            str, the handler will apply just to that name.\n",
      "        remove : bool\n",
      "            If False (the default), then install the handler.  If True\n",
      "            then unintall it.\n",
      "        \n"
     ]
    }
   ],
   "source": [
    "print(widgets.Widget.on_trait_change.__doc__)"
   ]
  },
  {
   "cell_type": "markdown",
   "metadata": {},
   "source": [
    "### Assinaturas\n",
    "Mencionado no documento, o retorno de chamada registrado pode ter 4 assinaturas possíveis:\n",
    "\n",
    "- callback()\n",
    "- callback(trait_name)\n",
    "- callback(trait_name, new_value)\n",
    "- callback(trait_name, old_value, new_value)\n",
    "\n",
    "Um exemplo de como produzir o valor do `IntSlider` como ele é alterado pode ser visto abaixo."
   ]
  },
  {
   "cell_type": "code",
   "execution_count": 6,
   "metadata": {},
   "outputs": [
    {
     "data": {
      "application/vnd.jupyter.widget-view+json": {
       "model_id": "c318dc102a224401ba103a228227f988",
       "version_major": 2,
       "version_minor": 0
      },
      "text/plain": [
       "IntSlider(value=0)"
      ]
     },
     "metadata": {},
     "output_type": "display_data"
    },
    {
     "name": "stderr",
     "output_type": "stream",
     "text": [
      "C:\\Users\\Gabriel Trentini\\Anaconda3\\lib\\site-packages\\ipykernel_launcher.py:7: DeprecationWarning: on_trait_change is deprecated in traitlets 4.1: use observe instead\n",
      "  import sys\n"
     ]
    }
   ],
   "source": [
    "int_range = widgets.IntSlider()\n",
    "display(int_range)\n",
    "\n",
    "def on_value_change(name, value):\n",
    "    print(value)\n",
    "\n",
    "int_range.on_trait_change(on_value_change, 'value')"
   ]
  },
  {
   "cell_type": "markdown",
   "metadata": {},
   "source": [
    "\n",
    "# Vinculando Widgets\n",
    "Muitas vezes, você pode querer simplesmente ligar atributos de widget."
   ]
  },
  {
   "cell_type": "markdown",
   "metadata": {},
   "source": [
    "## Vinculando atributos de traços do lado do servidor\n",
    "\n",
    "O primeiro método é usar as funções `link` e` dlink` do módulo `traitlets`."
   ]
  },
  {
   "cell_type": "code",
   "execution_count": 7,
   "metadata": {},
   "outputs": [],
   "source": [
    "import traitlets"
   ]
  },
  {
   "cell_type": "code",
   "execution_count": 8,
   "metadata": {},
   "outputs": [
    {
     "data": {
      "application/vnd.jupyter.widget-view+json": {
       "model_id": "ee75ee72646541c18745f18a28383852",
       "version_major": 2,
       "version_minor": 0
      },
      "text/plain": [
       "Label(value='The values of slider1 and slider2 are synchronized')"
      ]
     },
     "metadata": {},
     "output_type": "display_data"
    },
    {
     "data": {
      "application/vnd.jupyter.widget-view+json": {
       "model_id": "7ae8408aa1144f4bbf48eb310a0f98db",
       "version_major": 2,
       "version_minor": 0
      },
      "text/plain": [
       "IntSlider(value=0, description='Slider 1')"
      ]
     },
     "metadata": {},
     "output_type": "display_data"
    },
    {
     "data": {
      "application/vnd.jupyter.widget-view+json": {
       "model_id": "1e28b6b0c2db43e9ba25af14e341551b",
       "version_major": 2,
       "version_minor": 0
      },
      "text/plain": [
       "IntSlider(value=0, description='Slider 2')"
      ]
     },
     "metadata": {},
     "output_type": "display_data"
    }
   ],
   "source": [
    "# Cria Legenda\n",
    "caption = widgets.Label(value = 'The values of slider1 and slider2 are synchronized')\n",
    "\n",
    "# Cria IntSlider\n",
    "slider1 = widgets.IntSlider(description='Slider 1')\n",
    "slider2 =  widgets.IntSlider(description='Slider 2')\n",
    "\n",
    "# Usa trailets(traços) para linkar\n",
    "l = traitlets.link((slider1, 'value'), (slider2, 'value'))\n",
    "\n",
    "# Mostra!\n",
    "display(caption, slider1, slider2)"
   ]
  },
  {
   "cell_type": "code",
   "execution_count": 9,
   "metadata": {},
   "outputs": [
    {
     "data": {
      "application/vnd.jupyter.widget-view+json": {
       "model_id": "168ecb60f6374b1fb7b3d27150262ac9",
       "version_major": 2,
       "version_minor": 0
      },
      "text/plain": [
       "Label(value='Changes in source values are reflected in target1')"
      ]
     },
     "metadata": {},
     "output_type": "display_data"
    },
    {
     "data": {
      "application/vnd.jupyter.widget-view+json": {
       "model_id": "71a6de57c3c64a7a9d837ac9fc33a063",
       "version_major": 2,
       "version_minor": 0
      },
      "text/plain": [
       "IntSlider(value=0, description='Source')"
      ]
     },
     "metadata": {},
     "output_type": "display_data"
    },
    {
     "data": {
      "application/vnd.jupyter.widget-view+json": {
       "model_id": "8fd7251aec094812926722f5ad78024d",
       "version_major": 2,
       "version_minor": 0
      },
      "text/plain": [
       "IntSlider(value=0, description='Target 1')"
      ]
     },
     "metadata": {},
     "output_type": "display_data"
    }
   ],
   "source": [
    "# Cria Legenda\n",
    "caption = widgets.Label(value = 'Changes in source values are reflected in target1')\n",
    "\n",
    "# Cria os Sliders\n",
    "source = widgets.IntSlider(description='Source')\n",
    "target1 = widgets.IntSlider(description='Target 1')\n",
    "\n",
    "# Usa dlink\n",
    "dl = traitlets.dlink((source, 'value'), (target1, 'value'))\n",
    "display(caption, source, target1)"
   ]
  },
  {
   "cell_type": "markdown",
   "metadata": {},
   "source": [
    "As funções `traitlets.link` e` traitlets.dlink` retornam um objeto `Link` ou` DLink`. O link pode ser quebrado ao chamar o método 'unlink`."
   ]
  },
  {
   "cell_type": "code",
   "execution_count": 10,
   "metadata": {},
   "outputs": [],
   "source": [
    "# Pode obter um erro dependendo da ordem das células que estão sendo executadas!\n",
    "l.unlink()\n",
    "dl.unlink()"
   ]
  },
  {
   "cell_type": "markdown",
   "metadata": {},
   "source": [
    "## Vinculando atributos de widgets do lado do cliente\n",
    "Ao sincronizar os atributos de traitlets, você pode sofrer um atraso devido à latência devido à ida e volta ao lado do servidor. Você também pode vincular diretamente os atributos dos widgets no navegador usando os widgets do link, de forma unidirecional ou bidirecional."
   ]
  },
  {
   "cell_type": "code",
   "execution_count": 11,
   "metadata": {},
   "outputs": [
    {
     "data": {
      "application/vnd.jupyter.widget-view+json": {
       "model_id": "3adb8d424d644b668f1dde041ef705e4",
       "version_major": 2,
       "version_minor": 0
      },
      "text/plain": [
       "Label(value='The values of range1 and range2 are synchronized')"
      ]
     },
     "metadata": {},
     "output_type": "display_data"
    },
    {
     "data": {
      "application/vnd.jupyter.widget-view+json": {
       "model_id": "bfb6f1188bd2400ea63f0f2ebd527057",
       "version_major": 2,
       "version_minor": 0
      },
      "text/plain": [
       "IntSlider(value=0, description='Range 1')"
      ]
     },
     "metadata": {},
     "output_type": "display_data"
    },
    {
     "data": {
      "application/vnd.jupyter.widget-view+json": {
       "model_id": "a7263f993bbf41c4989c1108b0ed9d68",
       "version_major": 2,
       "version_minor": 0
      },
      "text/plain": [
       "IntSlider(value=0, description='Range 2')"
      ]
     },
     "metadata": {},
     "output_type": "display_data"
    }
   ],
   "source": [
    "# Versão sem LAG\n",
    "caption = widgets.Label(value = 'The values of range1 and range2 are synchronized')\n",
    "\n",
    "range1 = widgets.IntSlider(description='Range 1')\n",
    "range2 =  widgets.IntSlider(description='Range 2')\n",
    "\n",
    "l = widgets.jslink((range1, 'value'), (range2, 'value'))\n",
    "display(caption, range1, range2)"
   ]
  },
  {
   "cell_type": "code",
   "execution_count": 12,
   "metadata": {},
   "outputs": [
    {
     "data": {
      "application/vnd.jupyter.widget-view+json": {
       "model_id": "fa8b5d22c18946579a157f65c055fd4a",
       "version_major": 2,
       "version_minor": 0
      },
      "text/plain": [
       "Label(value='Changes in source_range values are reflected in target_range1')"
      ]
     },
     "metadata": {},
     "output_type": "display_data"
    },
    {
     "data": {
      "application/vnd.jupyter.widget-view+json": {
       "model_id": "e4e0cf332d5d47a4ac984b76b8919cc9",
       "version_major": 2,
       "version_minor": 0
      },
      "text/plain": [
       "IntSlider(value=0, description='Source range')"
      ]
     },
     "metadata": {},
     "output_type": "display_data"
    },
    {
     "data": {
      "application/vnd.jupyter.widget-view+json": {
       "model_id": "122881bb35c14430ba281bd6f8384e30",
       "version_major": 2,
       "version_minor": 0
      },
      "text/plain": [
       "IntSlider(value=0, description='Target range ')"
      ]
     },
     "metadata": {},
     "output_type": "display_data"
    }
   ],
   "source": [
    "caption = widgets.Label(value = 'Changes in source_range values are reflected in target_range1')\n",
    "\n",
    "source_range = widgets.IntSlider(description='Source range')\n",
    "target_range1 = widgets.IntSlider(description='Target range ')\n",
    "\n",
    "dl = widgets.jsdlink((source_range, 'value'), (target_range1, 'value'))\n",
    "display(caption, source_range, target_range1)"
   ]
  },
  {
   "cell_type": "markdown",
   "metadata": {},
   "source": [
    "A função `widgets.jslink` retorna um widget` Link`. O link pode ser quebrado ao chamar o método 'unlink`."
   ]
  },
  {
   "cell_type": "code",
   "execution_count": 13,
   "metadata": {},
   "outputs": [],
   "source": [
    "l.unlink()\n",
    "dl.unlink()"
   ]
  },
  {
   "cell_type": "markdown",
   "metadata": {},
   "source": [
    "# Conclusão\n",
    "Agora você deve se sentir confortável ao ligar os eventos de Widget!"
   ]
  }
 ],
 "metadata": {
  "cell_tags": [
   [
    "<None>",
    null
   ]
  ],
  "kernelspec": {
   "display_name": "Python 3",
   "language": "python",
   "name": "python3"
  },
  "language_info": {
   "codemirror_mode": {
    "name": "ipython",
    "version": 3
   },
   "file_extension": ".py",
   "mimetype": "text/x-python",
   "name": "python",
   "nbconvert_exporter": "python",
   "pygments_lexer": "ipython3",
   "version": "3.6.5"
  }
 },
 "nbformat": 4,
 "nbformat_minor": 1
}
